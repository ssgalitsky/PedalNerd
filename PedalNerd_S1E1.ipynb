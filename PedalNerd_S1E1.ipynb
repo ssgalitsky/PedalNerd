{
  "nbformat": 4,
  "nbformat_minor": 0,
  "metadata": {
    "colab": {
      "name": "PedalNerd_S1E1.ipynb",
      "provenance": [],
      "collapsed_sections": [],
      "include_colab_link": true
    },
    "kernelspec": {
      "name": "python3",
      "display_name": "Python 3"
    },
    "accelerator": "TPU"
  },
  "cells": [
    {
      "cell_type": "markdown",
      "metadata": {
        "id": "view-in-github",
        "colab_type": "text"
      },
      "source": [
        "<a href=\"https://colab.research.google.com/github/ssgalitsky/PedalNerd/blob/main/PedalNerd_S1E1.ipynb\" target=\"_parent\"><img src=\"https://colab.research.google.com/assets/colab-badge.svg\" alt=\"Open In Colab\"/></a>"
      ]
    },
    {
      "cell_type": "markdown",
      "metadata": {
        "id": "zcJjMSQ2j3bq"
      },
      "source": [
        "  \n",
        "\n",
        " | W$_Я$a${_P}$ **C** o$^{1_A}b$  |  <img width=4000px/>   |     $^{(C)\\ 2020,\\  Sergey\\ Galitsky.}_{Brain,\\ Music,\\ Hatered}$ |\n",
        "| :-------------------------------   |  :-----------------------------------:  | --------------------:  |\n"
      ]
    },
    {
      "cell_type": "code",
      "metadata": {
        "id": "lpiGhaArUL6H",
        "cellView": "both"
      },
      "source": [
        "#@markdown         ## **PedalNerd #s1e1**  \n",
        "#@markdown ##   training WaveNet on Colab\n",
        "\n",
        "#@markdown Parameters:\n",
        "\n",
        "#@markdown - Use Google TPU option \n",
        "UseTPU = True  #@param {type: \"boolean\"}\n",
        "\n",
        "#!rm -rf '/content/PedalNetRT'\n",
        "#import os\n",
        "#os.chdir('/content')\n",
        "#!git clone https://github.com/ssgalitsky/PedalNetRT.git\n",
        "!pip3 install torchvision\n",
        "!pip3 install pytorch_lightning==0.9.0\n",
        "\n",
        "if UseTPU:\n",
        "  !curl https://raw.githubusercontent.com/pytorch/xla/master/contrib/scripts/env-setup.py -o pytorch-xla-env-setup.py\n",
        "  !python3 pytorch-xla-env-setup.py --version nightly --apt-packages libomp5 libopenblas-dev\n",
        "  !pip3 install cloud-tpu-client==0.10 https://storage.googleapis.com/tpu-pytorch/wheels/torch_xla-1.6-cp36-cp36m-linux_x86_64.whl\n",
        "\n",
        "import os\n",
        "import torch\n",
        "use_cuda=True\n",
        "if use_cuda and torch.cuda.is_available():\n",
        "  net.cuda()\n",
        "\n",
        "if use_tpu:\n",
        "  assert os.environ['COLAB_TPU_ADDR']"
      ],
      "execution_count": null,
      "outputs": []
    },
    {
      "cell_type": "code",
      "metadata": {
        "id": "n9vktclZBGuc",
        "cellView": "both"
      },
      "source": [
        "#@title 3. prepare data\n",
        "os.chdir('/content/PedalNetRT')\n",
        "!python3 \"prepare_data.py\" \"/content/PedalNetRT/data/s chain1.wav\" \"/content/PedalNetRT/data/s chain3.wav\"\n"
      ],
      "execution_count": null,
      "outputs": []
    },
    {
      "cell_type": "code",
      "metadata": {
        "id": "XBb2THG2BtLm",
        "cellView": "code"
      },
      "source": [
        "#@title 4. **train model** Beware, checkpoint files not visible via Colab webui (-rw-r--r--) \n",
        "\n",
        "\n",
        "os.chdir('/content/PedalNetRT')  \n",
        "import pytorch_lightning\n",
        "!python3 \"train.py\" --batch_size=32 --max_epochs=100 --learning_rate=3e-3 --num_channels=5 --kernel_size=4 --dilation_depth=8\n",
        "#!python3 \"train.py\" --batch_size=32 --max_epochs=100 --learning_rate=3e-3 --num_channels=5 \n",
        "\n",
        "\n",
        "\n",
        "\n"
      ],
      "execution_count": null,
      "outputs": []
    },
    {
      "cell_type": "code",
      "metadata": {
        "id": "KCLKrhgUIcUk",
        "outputId": "69dc6040-fd41-4bd8-a6f4-c373599d4077",
        "colab": {
          "base_uri": "https://localhost:8080/",
          "height": 51
        }
      },
      "source": [
        "!ls -d /content/PedalNetRT/lightning_logs/version_1/checkpoints/*\n",
        "\n",
        "#!chmod -R 755 lightning_logs \n"
      ],
      "execution_count": null,
      "outputs": [
        {
          "output_type": "stream",
          "text": [
            "'/content/PedalNetRT/lightning_logs/version_1/checkpoints/epoch=99.ckpt'\n",
            "'/content/PedalNetRT/lightning_logs/version_1/checkpoints/epoch=99.tmp_end.ckpt'\n"
          ],
          "name": "stdout"
        }
      ]
    },
    {
      "cell_type": "code",
      "metadata": {
        "id": "s7W1bPk7V0hp",
        "cellView": "code",
        "outputId": "fdb79a80-5fab-4462-8811-f35a5a7430a9",
        "colab": {
          "base_uri": "https://localhost:8080/",
          "height": 54
        }
      },
      "source": [
        "#@title 5. convert torch model (ckpt) to plugin model (json) \n",
        "# The .ckpt model must be converted to a .json model to run in the plugin. Usage:\n",
        "\n",
        "#!python3 convert_pedalnet_to_wavnetva.py --model=your_trained_model.ckpt\n",
        "!python3 convert_pedalnet_to_wavenetva.py --model=/content/PedalNetRT/lightning_logs/version_1/checkpoints/epoch=99.ckpt\n",
        "\n",
        "\n",
        "\n"
      ],
      "execution_count": null,
      "outputs": [
        {
          "output_type": "stream",
          "text": [
            "2020-10-15 00:21:38.871550: I tensorflow/stream_executor/platform/default/dso_loader.cc:48] Successfully opened dynamic library libcudart.so.10.1\n"
          ],
          "name": "stdout"
        }
      ]
    },
    {
      "cell_type": "code",
      "metadata": {
        "id": "s4c3ZcL7x81U",
        "outputId": "20667f41-b2f6-4738-9fde-63d6e126e269",
        "colab": {
          "base_uri": "https://localhost:8080/",
          "height": 54
        }
      },
      "source": [
        "!python test.py --model=/content/PedalNetRT/lightning_logs/version_1/checkpoints/epoch=99.ckpt"
      ],
      "execution_count": null,
      "outputs": [
        {
          "output_type": "stream",
          "text": [
            "2020-10-15 00:21:56.102070: I tensorflow/stream_executor/platform/default/dso_loader.cc:48] Successfully opened dynamic library libcudart.so.10.1\n"
          ],
          "name": "stdout"
        }
      ]
    },
    {
      "cell_type": "code",
      "metadata": {
        "id": "BQpRRAHr4FtZ",
        "outputId": "39946686-546c-490b-e781-eca14afa28ee",
        "colab": {
          "base_uri": "https://localhost:8080/",
          "height": 136
        }
      },
      "source": [
        "!python plot_wav.py"
      ],
      "execution_count": null,
      "outputs": [
        {
          "output_type": "stream",
          "text": [
            "Error to signal (with pre-emphasis filter):  0.86500657\n",
            "Error to signal (no pre-emphasis filter):  0.8650066\n",
            "Creating spectrogram data..\n",
            "plot_wav.py:116: RuntimeWarning: divide by zero encountered in log10\n",
            "  plt.pcolormesh(times, frequencies, 10*np.log10(spectrogram))\n",
            "<Figure size 1300x800 with 3 Axes>\n",
            "<Figure size 1200x800 with 2 Axes>\n"
          ],
          "name": "stdout"
        }
      ]
    },
    {
      "cell_type": "code",
      "metadata": {
        "id": "jinHl027kvhC",
        "cellView": "form"
      },
      "source": [
        "#@title 6. convert model from TPU to CPU format\n",
        "import torch_xla\n",
        "import torch_xla.core.xla_model as xm\n",
        "\n",
        "from model import PedalNet\n",
        "# Change path below to match model file\n",
        "model = PedalNet.load_from_checkpoint('lightning_logs/version_0/checkpoints/epoch=1.ckpt')\n",
        "\n",
        "# xm.save(model.state_dict(), 'tpu_to_cpu.ckpt') \n",
        "xm.save(model, 'tpu_to_cpu_model.ckpt') \n",
        "# issues loading model, see pytorch_lightning issues #2303 and #3044 (Might be completed by now)\n",
        "\n",
        "# TODO: Add code to be able to load saved model sucessfully\n"
      ],
      "execution_count": null,
      "outputs": []
    }
  ]
}