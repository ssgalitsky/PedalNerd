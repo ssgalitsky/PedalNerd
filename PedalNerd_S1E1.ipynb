{
  "nbformat": 4,
  "nbformat_minor": 0,
  "metadata": {
    "colab": {
      "name": "PedalNerd_S1E1.ipynb",
      "provenance": [],
      "collapsed_sections": [],
      "include_colab_link": true
    },
    "kernelspec": {
      "name": "python3",
      "display_name": "Python 3"
    },
    "accelerator": "TPU"
  },
  "cells": [
    {
      "cell_type": "markdown",
      "metadata": {
        "id": "view-in-github",
        "colab_type": "text"
      },
      "source": [
        "<a href=\"https://colab.research.google.com/github/ssgalitsky/PedalNerd/blob/main/PedalNerd_S1E1.ipynb\" target=\"_parent\"><img src=\"https://colab.research.google.com/assets/colab-badge.svg\" alt=\"Open In Colab\"/></a>"
      ]
    },
    {
      "cell_type": "markdown",
      "metadata": {
        "id": "zcJjMSQ2j3bq"
      },
      "source": [
        "  \n",
        "\n",
        " | W$_Я$a${_P}$ **C** o$^{1_A}b$  |  <img width=4000px/>   |     $^{(C)\\ 2020,\\  Sergey\\ Galitsky.}_{Brain,\\ Music,\\ Hatered}$ |\n",
        "| :-------------------------------   |  :-----------------------------------:  | --------------------:  |\n"
      ]
    },
    {
      "cell_type": "code",
      "metadata": {
        "id": "lpiGhaArUL6H",
        "cellView": "form"
      },
      "source": [
        "#@markdown         ## **PedalNerd #s1e1**  \n",
        "#@markdown ##   training WaveNet on Colab\n",
        "\n",
        "#@markdown Parameters:\n",
        "\n",
        "#@markdown - Use Google TPU option \n",
        "UseTPU = True  #@param {type: \"boolean\"}\n",
        "\n",
        "#!rm -rf '/content/PedalNetRT'\n",
        "#import os\n",
        "#os.chdir('/content')\n",
        "#!git clone https://github.com/ssgalitsky/PedalNetRT.git\n",
        "!pip3 install torchvision\n",
        "!pip3 install pytorch_lightning==0.9.0\n",
        "\n",
        "if UseTPU:\n",
        "  !curl https://raw.githubusercontent.com/pytorch/xla/master/contrib/scripts/env-setup.py -o pytorch-xla-env-setup.py\n",
        "  !python3 pytorch-xla-env-setup.py --version nightly --apt-packages libomp5 libopenblas-dev\n",
        "  !pip3 install cloud-tpu-client==0.10 https://storage.googleapis.com/tpu-pytorch/wheels/torch_xla-1.6-cp36-cp36m-linux_x86_64.whl\n",
        "\n",
        "import os\n",
        "import torch\n",
        "\n",
        "\n",
        "use_cuda=True\n",
        "if use_cuda and torch.cuda.is_available():\n",
        "  net.cuda()\n",
        "\n",
        "if use_tpu:\n",
        "  assert os.environ['COLAB_TPU_ADDR']\n",
        "  "
      ],
      "execution_count": null,
      "outputs": []
    },
    {
      "cell_type": "code",
      "metadata": {
        "id": "5sT0O0yWPwF-",
        "cellView": "form",
        "outputId": "9e0a3d7e-b6af-461a-b005-7b493f8ba6dd",
        "colab": {
          "resources": {
            "http://localhost:8080/nbextensions/google.colab/files.js": {
              "data": "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",
              "ok": true,
              "headers": [
                [
                  "content-type",
                  "application/javascript"
                ]
              ],
              "status": 200,
              "status_text": ""
            }
          },
          "base_uri": "https://localhost:8080/",
          "height": 89
        }
      },
      "source": [
        "#@markdown ##### Upload input .wav file\n",
        "from google.colab import files\n",
        "\n",
        "uploaded = files.upload()\n",
        "for inFilename in uploaded.keys():\n",
        "  print('User uploaded file \"{name}\" with length {length} bytes'.format(\n",
        "      name=inFilename, length=len(uploaded[inFilename])))\n",
        "  \n"
      ],
      "execution_count": 4,
      "outputs": [
        {
          "output_type": "display_data",
          "data": {
            "text/html": [
              "\n",
              "     <input type=\"file\" id=\"files-da200970-277e-49ba-ace8-2a8b35fab1e1\" name=\"files[]\" multiple disabled\n",
              "        style=\"border:none\" />\n",
              "     <output id=\"result-da200970-277e-49ba-ace8-2a8b35fab1e1\">\n",
              "      Upload widget is only available when the cell has been executed in the\n",
              "      current browser session. Please rerun this cell to enable.\n",
              "      </output>\n",
              "      <script src=\"/nbextensions/google.colab/files.js\"></script> "
            ],
            "text/plain": [
              "<IPython.core.display.HTML object>"
            ]
          },
          "metadata": {
            "tags": []
          }
        },
        {
          "output_type": "stream",
          "text": [
            "Saving s chain1.wav to s chain1.wav\n",
            "User uploaded file \"s chain1.wav\" with length 8368792 bytes\n"
          ],
          "name": "stdout"
        }
      ]
    },
    {
      "cell_type": "code",
      "metadata": {
        "id": "pp4GuN38Q1SC",
        "cellView": "form"
      },
      "source": [
        "#@markdown ##### Upload output .wav file\n",
        "from google.colab import files\n",
        "\n",
        "uploaded = files.upload()\n",
        "for outFilename in uploaded.keys():\n",
        "  print('User uploaded file \"{name}\" with length {length} bytes'.format(\n",
        "      name=outFilename, length=len(uploaded[outFilename])))"
      ],
      "execution_count": null,
      "outputs": []
    },
    {
      "cell_type": "code",
      "metadata": {
        "id": "jCtxzfI_WaVi"
      },
      "source": [
        " "
      ],
      "execution_count": null,
      "outputs": []
    },
    {
      "cell_type": "code",
      "metadata": {
        "id": "n9vktclZBGuc",
        "cellView": "code"
      },
      "source": [
        "#@markdown ##### Prepare data (convert to PCM 16bit LE and then merge to pickle)\n",
        "sampleTime = 100e-3  #@param {type: \"number\"}\n",
        "\n",
        "\n",
        "!ffmpeg -i \"$inFilename\" -acodec pcm_s16le -ac 1 -ar 41000 \"$inFilename\"i\n",
        "!ffmpeg -i \"$outFilename\" -acodec pcm_s16le -ac 1 -ar 41000 \"$outFilename\"o\n",
        "\n",
        "import pickle\n",
        "from scipy.io import wavfile\n",
        "import numpy as np\n",
        "\n",
        "\n",
        "#os.chdir('/content/PedalNetRT')\n",
        "#!python3 \"prepare_data.py\" \"/content/PedalNetRT/data/s chain1.wav\" \"/content/PedalNetRT/data/s chain3.wav\"\n",
        "\n",
        "def prepareWavs():\n",
        "    in_rate, in_data = wavfile.read(inFilename+\"i\")\n",
        "    out_rate, out_data = wavfile.read(outFilename+\"o\")\n",
        "#    assert in_rate == out_rate, \"input  out_file must have same sample rate\"\n",
        "\n",
        "    sample_size = int(in_rate * sampleTime)\n",
        "    length = len(in_data) - len(in_data) % sample_size\n",
        "\n",
        "    x = in_data[:length].reshape((-1, 1, sample_size)).astype(np.float32)\n",
        "    y = out_data[:length].reshape((-1, 1, sample_size)).astype(np.float32)\n",
        "\n",
        "    split = lambda d: np.split(d, [int(len(d) * 0.6), int(len(d) * 0.8)])\n",
        "\n",
        "    d = {}\n",
        "    d[\"x_train\"], d[\"x_valid\"], d[\"x_test\"] = split(x)\n",
        "    d[\"y_train\"], d[\"y_valid\"], d[\"y_test\"] = split(y)\n",
        "    d[\"mean\"], d[\"std\"] = d[\"x_train\"].mean(), d[\"x_train\"].std()\n",
        "\n",
        "    # standardize\n",
        "    for key in \"x_train\", \"x_valid\", \"x_test\":\n",
        "        d[key] = (d[key] - d[\"mean\"]) / d[\"std\"]\n",
        "\n",
        "    pickle.dump(d, open(\"data.pickle\", \"wb\"))\n",
        "\n",
        "\n",
        "prepareWavs()\n"
      ],
      "execution_count": null,
      "outputs": []
    },
    {
      "cell_type": "code",
      "metadata": {
        "id": "e_TVaMHVdvga"
      },
      "source": [
        "import torch\n",
        "import torch.nn as nn\n",
        "import torch.nn.functional as F\n",
        "from torch.utils.data import TensorDataset, DataLoader\n",
        "\n",
        "import pytorch_lightning as pl\n",
        "import pickle\n",
        "#import argparse\n",
        "\n",
        "\n",
        "class CausalConv1d(torch.nn.Conv1d):\n",
        "    def __init__(self,\n",
        "                 in_channels,\n",
        "                 out_channels,\n",
        "                 kernel_size,\n",
        "                 stride=1,\n",
        "                 dilation=1,\n",
        "                 groups=1,\n",
        "                 bias=True):\n",
        "        self.__padding = (kernel_size - 1) * dilation\n",
        "\n",
        "        super(CausalConv1d, self).__init__(\n",
        "            in_channels,\n",
        "            out_channels,\n",
        "            kernel_size=kernel_size,\n",
        "            stride=stride,\n",
        "            padding=self.__padding,\n",
        "            dilation=dilation,\n",
        "            groups=groups,\n",
        "            bias=bias)\n",
        "\n",
        "    def forward(self, input):\n",
        "        result = super(CausalConv1d, self).forward(input)\n",
        "        if self.__padding != 0:\n",
        "            return result[:, :, :-self.__padding]\n",
        "        return result\n",
        "        \n",
        "\n",
        "def _conv_stack(dilations, in_channels, out_channels, kernel_size):\n",
        "    \"\"\"\n",
        "    Create stack of dilated convolutional layers, outlined in WaveNet paper:\n",
        "    https://arxiv.org/pdf/1609.03499.pdf\n",
        "    \"\"\"\n",
        "    return nn.ModuleList(\n",
        "        [\n",
        "            CausalConv1d(\n",
        "                in_channels=in_channels,\n",
        "                out_channels=out_channels,\n",
        "                dilation=d,\n",
        "                kernel_size=kernel_size,\n",
        "            )\n",
        "            for i, d in enumerate(dilations)\n",
        "        ]\n",
        "    )\n",
        "\n",
        "\n",
        "class WaveNet(nn.Module):\n",
        "    def __init__(self, num_channels, dilation_depth, num_repeat, kernel_size=2):\n",
        "        super(WaveNet, self).__init__()\n",
        "        dilations = [2 ** d for d in range(dilation_depth)] * num_repeat\n",
        "        internal_channels = int(num_channels*2)\n",
        "        self.hidden = _conv_stack(dilations, num_channels, internal_channels, kernel_size)\n",
        "        self.residuals = _conv_stack(dilations, num_channels, num_channels, 1)\n",
        "        self.input_layer = CausalConv1d(\n",
        "            in_channels=1,\n",
        "            out_channels=num_channels,\n",
        "            kernel_size=1,\n",
        "        )\n",
        "\n",
        "        self.linear_mix = nn.Conv1d(\n",
        "            in_channels=num_channels * dilation_depth * num_repeat,\n",
        "            out_channels=1,\n",
        "            kernel_size=1,\n",
        "        )\n",
        "        self.num_channels = num_channels\n",
        "\n",
        "    def forward(self, x):\n",
        "        out = x\n",
        "        skips = []\n",
        "        out = self.input_layer(out)\n",
        "\n",
        "        for hidden, residual in zip(\n",
        "            self.hidden, self.residuals\n",
        "        ):\n",
        "            x = out\n",
        "            out_hidden = hidden(x)\n",
        "\n",
        "            # gated activation\n",
        "            #   split (32,16,3) into two (16,16,3) for tanh and sigm calculations\n",
        "            out_hidden_split = torch.split(out_hidden, self.num_channels, dim=1)  \n",
        "            out = torch.tanh(out_hidden_split[0]) * torch.sigmoid(out_hidden_split[1])\n",
        "\n",
        "            skips.append(out)\n",
        "\n",
        "            out = residual(out)\n",
        "            out = out + x[:, :, -out.size(2) :]  \n",
        "\n",
        "        # modified \"postprocess\" step:\n",
        "        out = torch.cat([s[:, :, -out.size(2) :] for s in skips], dim=1)\n",
        "        out = self.linear_mix(out)\n",
        "        return out\n",
        "\n",
        "\n",
        "def error_to_signal(y, y_pred):\n",
        "    \"\"\"\n",
        "    Error to signal ratio with pre-emphasis filter:\n",
        "    https://www.mdpi.com/2076-3417/10/3/766/htm\n",
        "    \"\"\"\n",
        "    y, y_pred = pre_emphasis_filter(y), pre_emphasis_filter(y_pred)\n",
        "    return (y - y_pred).pow(2).sum(dim=2) / (y.pow(2).sum(dim=2) + 1e-10)\n",
        "\n",
        "\n",
        "def pre_emphasis_filter(x, coeff=0.95):\n",
        "    return torch.cat((x[:, :, 0:1], x[:, :, 1:] - coeff * x[:, :, :-1]), dim=2)\n",
        "\n",
        "\n",
        "class PedalNet(pl.LightningModule):\n",
        "    def __init__(self, hparams):\n",
        "        super(PedalNet, self).__init__()\n",
        "        try:\n",
        "            self.wavenet = WaveNet(\n",
        "                num_channels=hparams.num_channels,\n",
        "                dilation_depth=hparams.dilation_depth,\n",
        "                num_repeat=hparams.num_repeat,\n",
        "                kernel_size=hparams.kernel_size,\n",
        "            )\n",
        "        except:\n",
        "            self.wavenet = WaveNet(\n",
        "                num_channels=hparams['num_channels'],\n",
        "                dilation_depth=hparams['dilation_depth'],\n",
        "                num_repeat=hparams['num_repeat'],\n",
        "                kernel_size=hparams['kernel_size'],\n",
        "            )\n",
        "        self.hparams = hparams\n",
        "\n",
        "    def prepare_data(self):\n",
        "        ds = lambda x, y: TensorDataset(torch.from_numpy(x), torch.from_numpy(y))\n",
        "        data = pickle.load(open(self.hparams.data, \"rb\"))\n",
        "        self.train_ds = ds(data[\"x_train\"], data[\"y_train\"])\n",
        "        self.valid_ds = ds(data[\"x_valid\"], data[\"y_valid\"])\n",
        "\n",
        "    def configure_optimizers(self):\n",
        "        return torch.optim.Adam(\n",
        "            self.wavenet.parameters(), lr=self.hparams.learning_rate\n",
        "        )\n",
        "\n",
        "    def train_dataloader(self):\n",
        "        return DataLoader(\n",
        "            self.train_ds,\n",
        "            shuffle=True,\n",
        "            batch_size=self.hparams.batch_size,\n",
        "            num_workers=4,\n",
        "        )\n",
        "\n",
        "    def val_dataloader(self):\n",
        "        return DataLoader(\n",
        "            self.valid_ds, batch_size=self.hparams.batch_size, num_workers=4\n",
        "        )\n",
        "\n",
        "    def forward(self, x):\n",
        "        return self.wavenet(x)\n",
        "\n",
        "    def training_step(self, batch, batch_idx):\n",
        "        x, y = batch\n",
        "        y_pred = self.forward(x)\n",
        "        loss = error_to_signal(y[:, :, -y_pred.size(2) :], y_pred).mean()\n",
        "        logs = {\"loss\": loss}\n",
        "        return {\"loss\": loss, \"log\": logs}\n",
        "\n",
        "    def validation_step(self, batch, batch_idx):\n",
        "        x, y = batch\n",
        "        y_pred = self.forward(x)\n",
        "        loss = error_to_signal(y[:, :, -y_pred.size(2) :], y_pred).mean()\n",
        "        return {\"val_loss\": loss}\n",
        "\n",
        "    def validation_epoch_end(self, outs):\n",
        "        avg_loss = torch.stack([x[\"val_loss\"] for x in outs]).mean()\n",
        "        logs = {\"val_loss\": avg_loss}\n",
        "        return {\"avg_val_loss\": avg_loss, \"log\": logs}"
      ],
      "execution_count": null,
      "outputs": []
    },
    {
      "cell_type": "code",
      "metadata": {
        "id": "XBb2THG2BtLm",
        "cellView": "both"
      },
      "source": [
        "#@markdown ##### prepare data\n",
        "#@markdown ##### Beware, checkpoint files not visible via Colab webui (-rw-r--r--) \n",
        "\n",
        "#import pytorch_lightning\n",
        "#!python3 \"train.py\" --batch_size=32 --max_epochs=100 --learning_rate=3e-3 --num_channels=5 --kernel_size=4 --dilation_depth=8\n",
        "#!python3 \"train.py\" --batch_size=32 --max_epochs=100 --learning_rate=3e-3 --num_channels=5 \n",
        "\n",
        "args.num_channels=5          #@param {type: \"number\"}\n",
        "args.dilation_depth=10       #@param {type: \"number\"}\n",
        "args.num_repeat=1            #@param {type: \"number\"}\n",
        "    \n",
        "    # filter_width=kernel_size\n",
        "args.kernel_size=3           #@param {type: \"number\"}\n",
        "\n",
        "args.batch_size=64           #@param {type: \"number\"}\n",
        "args.learning_rate=3e-3      #@param {type: \"number\"}\n",
        "\n",
        "args.max_epochs=100          #@param {type: \"number\"}\n",
        "args.gpus=0                  #@param {type: \"number\"}\n",
        "args.tpu_cores=8             #@param {type: \"number\"}\n",
        "args.data=\"data.pickle\"\n",
        "\n",
        "import pytorch_lightning as pl\n",
        "import argparse\n",
        "#from model import PedalNet\n",
        "\n",
        "from pytorch_lightning.callbacks import ModelCheckpoint\n",
        "\n",
        "checkpoint_callback = ModelCheckpoint(\n",
        "    save_top_k=5,\n",
        "    monitor='val_loss',\n",
        "    mode='min',\n",
        "    period=100\n",
        ")\n",
        "\n",
        "def startFit(args):\n",
        "    model = PedalNet(args)\n",
        "    trainer = pl.Trainer(\n",
        "        # max_epochs=args.max_epochs, gpus=args.gpus, row_log_interval=100\n",
        "        # The following line is for use with the Colab notebook when training on TPUs.\n",
        "        # Comment out the above line and uncomment the below line to use.\n",
        "        max_epochs=args.max_epochs, tpu_cores=args.tpu_cores, row_log_interval=100, checkpoint_callback=ModelCheckpoint()\n",
        "    )\n",
        "    trainer.fit(model)\n",
        "\n",
        "startFit(args)"
      ],
      "execution_count": null,
      "outputs": []
    },
    {
      "cell_type": "code",
      "metadata": {
        "id": "v-D7HtBHc8GD"
      },
      "source": [
        "import argparse\n",
        "\n",
        "args = parser.parse_args()"
      ],
      "execution_count": null,
      "outputs": []
    },
    {
      "cell_type": "code",
      "metadata": {
        "id": "KCLKrhgUIcUk",
        "outputId": "69dc6040-fd41-4bd8-a6f4-c373599d4077",
        "colab": {
          "base_uri": "https://localhost:8080/",
          "height": 51
        }
      },
      "source": [
        "!ls -d /content/PedalNetRT/lightning_logs/version_1/checkpoints/*\n",
        "\n",
        "#!chmod -R 755 lightning_logs \n"
      ],
      "execution_count": null,
      "outputs": [
        {
          "output_type": "stream",
          "text": [
            "'/content/PedalNetRT/lightning_logs/version_1/checkpoints/epoch=99.ckpt'\n",
            "'/content/PedalNetRT/lightning_logs/version_1/checkpoints/epoch=99.tmp_end.ckpt'\n"
          ],
          "name": "stdout"
        }
      ]
    },
    {
      "cell_type": "code",
      "metadata": {
        "id": "s7W1bPk7V0hp",
        "cellView": "code",
        "outputId": "fdb79a80-5fab-4462-8811-f35a5a7430a9",
        "colab": {
          "base_uri": "https://localhost:8080/",
          "height": 54
        }
      },
      "source": [
        "#@title 5. convert torch model (ckpt) to plugin model (json) \n",
        "# The .ckpt model must be converted to a .json model to run in the plugin. Usage:\n",
        "\n",
        "#!python3 convert_pedalnet_to_wavnetva.py --model=your_trained_model.ckpt\n",
        "!python3 convert_pedalnet_to_wavenetva.py --model=/content/PedalNetRT/lightning_logs/version_1/checkpoints/epoch=99.ckpt\n",
        "\n",
        "\n",
        "\n"
      ],
      "execution_count": null,
      "outputs": [
        {
          "output_type": "stream",
          "text": [
            "2020-10-15 00:21:38.871550: I tensorflow/stream_executor/platform/default/dso_loader.cc:48] Successfully opened dynamic library libcudart.so.10.1\n"
          ],
          "name": "stdout"
        }
      ]
    },
    {
      "cell_type": "code",
      "metadata": {
        "id": "s4c3ZcL7x81U",
        "outputId": "20667f41-b2f6-4738-9fde-63d6e126e269",
        "colab": {
          "base_uri": "https://localhost:8080/",
          "height": 54
        }
      },
      "source": [
        "!python test.py --model=/content/PedalNetRT/lightning_logs/version_1/checkpoints/epoch=99.ckpt"
      ],
      "execution_count": null,
      "outputs": [
        {
          "output_type": "stream",
          "text": [
            "2020-10-15 00:21:56.102070: I tensorflow/stream_executor/platform/default/dso_loader.cc:48] Successfully opened dynamic library libcudart.so.10.1\n"
          ],
          "name": "stdout"
        }
      ]
    },
    {
      "cell_type": "code",
      "metadata": {
        "id": "BQpRRAHr4FtZ",
        "outputId": "39946686-546c-490b-e781-eca14afa28ee",
        "colab": {
          "base_uri": "https://localhost:8080/",
          "height": 136
        }
      },
      "source": [
        "!python plot_wav.py"
      ],
      "execution_count": null,
      "outputs": [
        {
          "output_type": "stream",
          "text": [
            "Error to signal (with pre-emphasis filter):  0.86500657\n",
            "Error to signal (no pre-emphasis filter):  0.8650066\n",
            "Creating spectrogram data..\n",
            "plot_wav.py:116: RuntimeWarning: divide by zero encountered in log10\n",
            "  plt.pcolormesh(times, frequencies, 10*np.log10(spectrogram))\n",
            "<Figure size 1300x800 with 3 Axes>\n",
            "<Figure size 1200x800 with 2 Axes>\n"
          ],
          "name": "stdout"
        }
      ]
    },
    {
      "cell_type": "code",
      "metadata": {
        "id": "jinHl027kvhC",
        "cellView": "form"
      },
      "source": [
        "#@title 6. convert model from TPU to CPU format\n",
        "import torch_xla\n",
        "import torch_xla.core.xla_model as xm\n",
        "\n",
        "from model import PedalNet\n",
        "# Change path below to match model file\n",
        "model = PedalNet.load_from_checkpoint('lightning_logs/version_0/checkpoints/epoch=1.ckpt')\n",
        "\n",
        "# xm.save(model.state_dict(), 'tpu_to_cpu.ckpt') \n",
        "xm.save(model, 'tpu_to_cpu_model.ckpt') \n",
        "# issues loading model, see pytorch_lightning issues #2303 and #3044 (Might be completed by now)\n",
        "\n",
        "# TODO: Add code to be able to load saved model sucessfully\n"
      ],
      "execution_count": null,
      "outputs": []
    }
  ]
}